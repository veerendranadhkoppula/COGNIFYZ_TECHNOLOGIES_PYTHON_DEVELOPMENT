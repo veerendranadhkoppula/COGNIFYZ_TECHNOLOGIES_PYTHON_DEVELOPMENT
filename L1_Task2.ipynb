{
  "nbformat": 4,
  "nbformat_minor": 0,
  "metadata": {
    "colab": {
      "provenance": [],
      "authorship_tag": "ABX9TyNFrY66AHUj1lGgEP+HugsO",
      "include_colab_link": true
    },
    "kernelspec": {
      "name": "python3",
      "display_name": "Python 3"
    },
    "language_info": {
      "name": "python"
    }
  },
  "cells": [
    {
      "cell_type": "markdown",
      "metadata": {
        "id": "view-in-github",
        "colab_type": "text"
      },
      "source": [
        "<a href=\"https://colab.research.google.com/github/veerendranadhkoppula/COGNIFYZ_TECHNOLOGIES_PYTHON_DEVELOPMENT/blob/main/L1_Task2.ipynb\" target=\"_parent\"><img src=\"https://colab.research.google.com/assets/colab-badge.svg\" alt=\"Open In Colab\"/></a>"
      ]
    },
    {
      "cell_type": "markdown",
      "source": [
        "**TASK_2: Temperature** **Conversion**"
      ],
      "metadata": {
        "id": "A85P1Q4d7T9F"
      }
    },
    {
      "cell_type": "markdown",
      "source": [
        "**Question**\n",
        "\n",
        "Create a python program thet converts temperatures between Celsisus and Fahrenheit. Promot the user to enter a temperature value and unit of measurement, and then display the converted temperature"
      ],
      "metadata": {
        "id": "AJ8PlBf87_v7"
      }
    },
    {
      "cell_type": "markdown",
      "source": [
        "**Answer**"
      ],
      "metadata": {
        "id": "5uOSs6L98zeT"
      }
    },
    {
      "cell_type": "code",
      "source": [
        "temp_value = float(input(\"Enter Value of Temperature: \"))\n",
        "unit = input(\"Enter Unit of Temperature (Celsius or Fahrenheit): \")\n",
        "\n",
        "if unit == 'c' or unit == 'C':\n",
        "    f = (temp_value * 9/5) + 32\n",
        "    print(\"You have entered value in °C\")\n",
        "    print(f\"Its Fahrenheit value is: {f:.2f}\")\n",
        "\n",
        "elif unit == 'f' or unit == 'F':\n",
        "    c = 5/9 * (temp_value - 32)\n",
        "    print(\"You have entered value in °F\")\n",
        "    print(f\"Its Celsius value is: {c:.2f}\")\n",
        "\n",
        "else:\n",
        "    print(\"Invalid Unit!\\nPlease retry by using 'C' for Celsius or 'F' for Fahrenheit.\")"
      ],
      "metadata": {
        "colab": {
          "base_uri": "https://localhost:8080/"
        },
        "id": "IFpsZQIF829n",
        "outputId": "364a892e-baa3-4710-855d-d9f1289be717"
      },
      "execution_count": 11,
      "outputs": [
        {
          "output_type": "stream",
          "name": "stdout",
          "text": [
            "Enter Value of Temperature: 80\n",
            "Enter Unit of Temperature (Celsius or Fahrenheit): c\n",
            "You have entered value in °C\n",
            "Its Fahrenheit value is: 176.00\n"
          ]
        }
      ]
    },
    {
      "cell_type": "markdown",
      "source": [],
      "metadata": {
        "id": "mJk7uQoL8JOH"
      }
    }
  ]
}