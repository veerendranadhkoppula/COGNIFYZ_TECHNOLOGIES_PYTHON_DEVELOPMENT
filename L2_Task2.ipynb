{
  "nbformat": 4,
  "nbformat_minor": 0,
  "metadata": {
    "colab": {
      "provenance": [],
      "authorship_tag": "ABX9TyNL8oE66O5nH3jTAnnOc+yy",
      "include_colab_link": true
    },
    "kernelspec": {
      "name": "python3",
      "display_name": "Python 3"
    },
    "language_info": {
      "name": "python"
    }
  },
  "cells": [
    {
      "cell_type": "markdown",
      "metadata": {
        "id": "view-in-github",
        "colab_type": "text"
      },
      "source": [
        "<a href=\"https://colab.research.google.com/github/veerendranadhkoppula/COGNIFYZ_TECHNOLOGIES_PYTHON_DEVELOPMENT/blob/main/L2_Task2.ipynb\" target=\"_parent\"><img src=\"https://colab.research.google.com/assets/colab-badge.svg\" alt=\"Open In Colab\"/></a>"
      ]
    },
    {
      "cell_type": "markdown",
      "source": [
        "**L2 Task-2:- Task: Number Guesser**"
      ],
      "metadata": {
        "id": "hSDPreTAuxoc"
      }
    },
    {
      "cell_type": "markdown",
      "source": [
        "**Question**\n",
        "\n",
        "Create a number guessing game where the\n",
        "program generates a random number\n",
        "between a specified range, and the user tries\n",
        "to guess it. Provide feedback to the user if\n",
        "their guess is too high or too low."
      ],
      "metadata": {
        "id": "-eI32nyQu5-j"
      }
    },
    {
      "cell_type": "markdown",
      "source": [
        "**Answer**"
      ],
      "metadata": {
        "id": "ZFeZBV7-u_iv"
      }
    },
    {
      "cell_type": "code",
      "source": [
        "import random"
      ],
      "metadata": {
        "id": "5Am2heJtvBrT"
      },
      "execution_count": 5,
      "outputs": []
    },
    {
      "cell_type": "code",
      "source": [
        "choice = random.randint(1, 1000)\n",
        "count = 0\n",
        "\n",
        "while count < 10:\n",
        "\n",
        "    guess_no = int(input(\"Guess the No. :\"))\n",
        "\n",
        "    if guess_no == choice:\n",
        "        print(\"Hooray! Your Guess is Correct\")\n",
        "        break\n",
        "\n",
        "    elif guess_no < choice:\n",
        "        print(\"To Low\")\n",
        "\n",
        "    else:\n",
        "        print(\"Too High\")\n",
        "\n",
        "    count += 1\n",
        "\n",
        "if count > 10:\n",
        "    print(f\"The no is {choice}\")\n",
        "    print(\"You can try again!\")"
      ],
      "metadata": {
        "colab": {
          "base_uri": "https://localhost:8080/"
        },
        "id": "QZw7Tj7xvGmI",
        "outputId": "8878c4b6-972f-4efc-9efd-3b2d267f2983"
      },
      "execution_count": 8,
      "outputs": [
        {
          "output_type": "stream",
          "name": "stdout",
          "text": [
            "Guess the No. :35\n",
            "To Low\n",
            "Guess the No. :45\n",
            "To Low\n",
            "Guess the No. :55\n",
            "To Low\n",
            "Guess the No. :500\n",
            "To Low\n",
            "Guess the No. :40\n",
            "To Low\n",
            "Guess the No. :400\n",
            "To Low\n",
            "Guess the No. :300\n",
            "To Low\n",
            "Guess the No. :320\n",
            "To Low\n",
            "Guess the No. :310\n",
            "To Low\n",
            "Guess the No. :305\n",
            "To Low\n"
          ]
        }
      ]
    }
  ]
}