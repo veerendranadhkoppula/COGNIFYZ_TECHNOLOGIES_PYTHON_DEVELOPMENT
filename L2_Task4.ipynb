{
  "nbformat": 4,
  "nbformat_minor": 0,
  "metadata": {
    "colab": {
      "provenance": [],
      "authorship_tag": "ABX9TyMXQVmH3aMloRiU+orJanD5",
      "include_colab_link": true
    },
    "kernelspec": {
      "name": "python3",
      "display_name": "Python 3"
    },
    "language_info": {
      "name": "python"
    }
  },
  "cells": [
    {
      "cell_type": "markdown",
      "metadata": {
        "id": "view-in-github",
        "colab_type": "text"
      },
      "source": [
        "<a href=\"https://colab.research.google.com/github/veerendranadhkoppula/COGNIFYZ_TECHNOLOGIES_PYTHON_DEVELOPMENT/blob/main/L2_Task4.ipynb\" target=\"_parent\"><img src=\"https://colab.research.google.com/assets/colab-badge.svg\" alt=\"Open In Colab\"/></a>"
      ]
    },
    {
      "cell_type": "markdown",
      "source": [
        "**L2 TASK-4:-Fibonacci Sequence**"
      ],
      "metadata": {
        "id": "n3I1dF69yp-s"
      }
    },
    {
      "cell_type": "markdown",
      "source": [
        "**Question**\n",
        "\n",
        "Write a Python function that generates theFibonacci sequence up to a given number ofterms. The function should take an integerinput from the user and display theFibonacci sequence up to that number of terms"
      ],
      "metadata": {
        "id": "WnMvTLXLyxQa"
      }
    },
    {
      "cell_type": "markdown",
      "source": [
        "**Answer**"
      ],
      "metadata": {
        "id": "ZPwvPyXWy6ke"
      }
    },
    {
      "cell_type": "code",
      "source": [
        "def Fibonacci(n):\n",
        "    if n<0:\n",
        "        return 0\n",
        "\n",
        "    num1 = 0\n",
        "    num2 = 1\n",
        "    nxt = 0\n",
        "    c = 1\n",
        "\n",
        "    while (c <= n):\n",
        "        print(nxt, end=\" \")\n",
        "        c += 1\n",
        "        num1 = num2\n",
        "        num2 = nxt\n",
        "        nxt = num1 + num2\n",
        "\n",
        "\n",
        "n = int(input(\"Give a no. upto which fibonacci series is generated :\"))\n",
        "Fibonacci(n)"
      ],
      "metadata": {
        "colab": {
          "base_uri": "https://localhost:8080/"
        },
        "id": "8wn0brYdzIMd",
        "outputId": "1739976a-c937-4bfc-c91c-be93ab5f201a"
      },
      "execution_count": 1,
      "outputs": [
        {
          "output_type": "stream",
          "name": "stdout",
          "text": [
            "Give a no. upto which fibonacci series is generated :20\n",
            "0 1 1 2 3 5 8 13 21 34 55 89 144 233 377 610 987 1597 2584 4181 "
          ]
        }
      ]
    }
  ]
}