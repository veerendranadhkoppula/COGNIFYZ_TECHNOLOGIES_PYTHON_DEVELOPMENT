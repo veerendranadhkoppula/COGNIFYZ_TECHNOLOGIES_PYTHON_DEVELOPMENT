{
  "nbformat": 4,
  "nbformat_minor": 0,
  "metadata": {
    "colab": {
      "provenance": [],
      "authorship_tag": "ABX9TyPrd0JbJHyv9xVMLF6gH1sB",
      "include_colab_link": true
    },
    "kernelspec": {
      "name": "python3",
      "display_name": "Python 3"
    },
    "language_info": {
      "name": "python"
    }
  },
  "cells": [
    {
      "cell_type": "markdown",
      "metadata": {
        "id": "view-in-github",
        "colab_type": "text"
      },
      "source": [
        "<a href=\"https://colab.research.google.com/github/veerendranadhkoppula/COGNIFYZ_TECHNOLOGIES_PYTHON_DEVELOPMENT/blob/main/L1_Task3.ipynb\" target=\"_parent\"><img src=\"https://colab.research.google.com/assets/colab-badge.svg\" alt=\"Open In Colab\"/></a>"
      ]
    },
    {
      "cell_type": "markdown",
      "source": [
        "**TASK-3: Email Vlidator**"
      ],
      "metadata": {
        "id": "z-8JYrsv96rd"
      }
    },
    {
      "cell_type": "markdown",
      "source": [
        "**Question**\n",
        "\n",
        "Develop a Python function that validates\n",
        "whether a given string is a valid email\n",
        "address. Implement checks for the format,\n",
        "including the presence of an \"@\" symbol and\n",
        "a domain name"
      ],
      "metadata": {
        "id": "v5GLW5Qr-UoA"
      }
    },
    {
      "cell_type": "markdown",
      "source": [
        "**Answer**"
      ],
      "metadata": {
        "id": "PUy5wd6_-xuW"
      }
    },
    {
      "cell_type": "code",
      "source": [
        "import re\n",
        "\n",
        "\n",
        "def email_validator(email):\n",
        "    if re.match(r\"[^@]+@[^@]+\\.[^@]+\", email):\n",
        "        return \"Valid email address\"\n",
        "    else:\n",
        "        return \"Invalid email address\""
      ],
      "metadata": {
        "id": "M86DFUV2-0rt"
      },
      "execution_count": 2,
      "outputs": []
    },
    {
      "cell_type": "code",
      "source": [
        "email1 = \"cognifyz@domain.com\"\n",
        "email2 = \"cognifyz@domaincom\"\n",
        "print(\"Email1 is :\", email_validator(email1))\n",
        "print(\"Email2 is :\", email_validator(email2))"
      ],
      "metadata": {
        "colab": {
          "base_uri": "https://localhost:8080/"
        },
        "id": "WtNTO23M-9Tq",
        "outputId": "15a5a42f-a02f-4283-916f-64519c4db3dd"
      },
      "execution_count": 3,
      "outputs": [
        {
          "output_type": "stream",
          "name": "stdout",
          "text": [
            "Email1 is : Valid email address\n",
            "Email2 is : Invalid email address\n"
          ]
        }
      ]
    },
    {
      "cell_type": "code",
      "source": [
        "# Email as an input\n",
        "email = input(\"Enter Email Here : \")\n",
        "email_validator(email)"
      ],
      "metadata": {
        "colab": {
          "base_uri": "https://localhost:8080/",
          "height": 53
        },
        "id": "JzjP9wW7_Bcr",
        "outputId": "5b0ad17f-8ec8-483e-dcf3-e0481244687a"
      },
      "execution_count": 4,
      "outputs": [
        {
          "name": "stdout",
          "output_type": "stream",
          "text": [
            "Enter Email Here : veerendrakoppula68@gmail.com\n"
          ]
        },
        {
          "output_type": "execute_result",
          "data": {
            "text/plain": [
              "'Valid email address'"
            ],
            "application/vnd.google.colaboratory.intrinsic+json": {
              "type": "string"
            }
          },
          "metadata": {},
          "execution_count": 4
        }
      ]
    }
  ]
}