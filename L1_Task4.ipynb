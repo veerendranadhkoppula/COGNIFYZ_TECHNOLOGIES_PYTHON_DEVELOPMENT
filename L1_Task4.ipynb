{
  "nbformat": 4,
  "nbformat_minor": 0,
  "metadata": {
    "colab": {
      "provenance": [],
      "authorship_tag": "ABX9TyN25j9vlMtgFQ9gYKhSfY6g",
      "include_colab_link": true
    },
    "kernelspec": {
      "name": "python3",
      "display_name": "Python 3"
    },
    "language_info": {
      "name": "python"
    }
  },
  "cells": [
    {
      "cell_type": "markdown",
      "metadata": {
        "id": "view-in-github",
        "colab_type": "text"
      },
      "source": [
        "<a href=\"https://colab.research.google.com/github/veerendranadhkoppula/COGNIFYZ_TECHNOLOGIES_PYTHON_DEVELOPMENT/blob/main/L1_Task4.ipynb\" target=\"_parent\"><img src=\"https://colab.research.google.com/assets/colab-badge.svg\" alt=\"Open In Colab\"/></a>"
      ]
    },
    {
      "cell_type": "markdown",
      "source": [
        "**TASK-4: Calculator Program**"
      ],
      "metadata": {
        "id": "_KaY4wlsAGWp"
      }
    },
    {
      "cell_type": "markdown",
      "source": [
        "**Question**\n",
        "\n",
        "Create a Python program that acts as a basic\n",
        "calculator. It should prompt the user to\n",
        "enter two numbers and an operator (+, -, *, /,\n",
        "%), and then display the result of the\n",
        "operation."
      ],
      "metadata": {
        "id": "oMfY3XrtAZSP"
      }
    },
    {
      "cell_type": "markdown",
      "source": [
        "**Answer**"
      ],
      "metadata": {
        "id": "NlVT3uCfAfKD"
      }
    },
    {
      "cell_type": "code",
      "source": [
        "print(\"------------ Welcome to Calculator ----------\")\n",
        "\n",
        "num1 = float(input(\"Enter First no. : \"))\n",
        "num2 = float(input(\"Enter Second no. : \"))\n",
        "\n",
        "op = input(\"Enter the Operator (+,-,*,/) : \")\n",
        "print(\"Result -> \")\n",
        "\n",
        "if num1 < num2:\n",
        "    match op:\n",
        "        case '+':\n",
        "            print(f\"Addition is : {num2+num1}\")\n",
        "        case '-':\n",
        "            print(f\"Substraction is : {num2-num1}\")\n",
        "        case '*':\n",
        "            print(f\"Multiplication is : {num2*num1}\")\n",
        "        case '/':\n",
        "            print(f\"Division is : {num2/num1}\")\n",
        "        case _:\n",
        "            print(\"Invalid Operator! \\nPlease enter Valid Operator\")\n",
        "\n",
        "elif num1 > num2:\n",
        "    match op:\n",
        "        case '+':\n",
        "            print(f\"Addition is : {num1+num2}\")\n",
        "        case '-':\n",
        "            print(f\"Substraction is : {num1-num2}\")\n",
        "        case '*':\n",
        "            print(f\"Multiplication is : {num1*num2}\")\n",
        "        case '/':\n",
        "            print(f\"Division is : {num1/num2}\")\n",
        "        case _:\n",
        "            print(\"Invalid Operator! \\nPlease enter Valid Operator\")\n",
        "\n",
        "else:\n",
        "    print(\"Something Went Wrong\")"
      ],
      "metadata": {
        "colab": {
          "base_uri": "https://localhost:8080/"
        },
        "id": "lD3y_cyGAhRw",
        "outputId": "d3a94196-c7f6-4eb2-943e-aa26270b76b3"
      },
      "execution_count": 2,
      "outputs": [
        {
          "output_type": "stream",
          "name": "stdout",
          "text": [
            "------------ Welcome to Calculator ----------\n",
            "Enter First no. : 70\n",
            "Enter Second no. : 80\n",
            "Enter the Operator (+,-,*,/) : +\n",
            "Result -> \n",
            "Addition is : 150.0\n"
          ]
        }
      ]
    }
  ]
}