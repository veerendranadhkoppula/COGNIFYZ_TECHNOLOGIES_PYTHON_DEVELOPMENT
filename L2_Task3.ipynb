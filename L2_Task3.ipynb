{
  "nbformat": 4,
  "nbformat_minor": 0,
  "metadata": {
    "colab": {
      "provenance": [],
      "authorship_tag": "ABX9TyNBCBh/3XxCIlHM+k7Gx5j5",
      "include_colab_link": true
    },
    "kernelspec": {
      "name": "python3",
      "display_name": "Python 3"
    },
    "language_info": {
      "name": "python"
    }
  },
  "cells": [
    {
      "cell_type": "markdown",
      "metadata": {
        "id": "view-in-github",
        "colab_type": "text"
      },
      "source": [
        "<a href=\"https://colab.research.google.com/github/veerendranadhkoppula/COGNIFYZ_TECHNOLOGIES_PYTHON_DEVELOPMENT/blob/main/L2_Task3.ipynb\" target=\"_parent\"><img src=\"https://colab.research.google.com/assets/colab-badge.svg\" alt=\"Open In Colab\"/></a>"
      ]
    },
    {
      "cell_type": "markdown",
      "source": [
        "**L2 TASK-3:-Password Strength Checker**"
      ],
      "metadata": {
        "id": "jGTSjZYwxtP9"
      }
    },
    {
      "cell_type": "markdown",
      "source": [
        "**Question**\n",
        "\n",
        "Create a Python function that evaluates\n",
        "the strength of a password entered by the\n",
        "user. Implement checks for factors such as\n",
        "length, presence of uppercase and\n",
        "lowercase letters, digits, and special\n",
        "characters."
      ],
      "metadata": {
        "id": "hosY6H-fyBlF"
      }
    },
    {
      "cell_type": "markdown",
      "source": [
        "**Answer**"
      ],
      "metadata": {
        "id": "bJ3mM_8UyGmq"
      }
    },
    {
      "cell_type": "code",
      "source": [
        "import re"
      ],
      "metadata": {
        "id": "k80vQL9KyIH8"
      },
      "execution_count": 1,
      "outputs": []
    },
    {
      "cell_type": "code",
      "source": [
        "def Password_Strength_Checker(password):\n",
        "    not_strong = \"Password is not strong\"\n",
        "    strong = \"Password is Strong\"\n",
        "\n",
        "    if len(password) < 8:\n",
        "        return not_strong\n",
        "\n",
        "    if not re.search(r'\\d', password):\n",
        "        return not_strong\n",
        "\n",
        "    if not re.search(r'[0-9]', password):\n",
        "        return not_strong\n",
        "\n",
        "    if not re.search(r'[A-Z]', password):\n",
        "        return not_strong\n",
        "\n",
        "    if not re.search(r'[a-z]', password):\n",
        "        return not_strong\n",
        "\n",
        "\n",
        "    if not re.search(r'[!@#$%^&*(),.?\":{}|<>]', password):\n",
        "        return not_strong\n",
        "\n",
        "    return strong\n",
        "\n",
        "\n",
        "password = input(\"Input your password: \")\n",
        "print(Password_Strength_Checker(password))"
      ],
      "metadata": {
        "colab": {
          "base_uri": "https://localhost:8080/"
        },
        "id": "qwKVSQiTyPJQ",
        "outputId": "636af693-6fac-4658-e2e5-833055f43761"
      },
      "execution_count": 2,
      "outputs": [
        {
          "output_type": "stream",
          "name": "stdout",
          "text": [
            "Input your password: Veerendra@123\n",
            "Password is Strong\n"
          ]
        }
      ]
    }
  ]
}