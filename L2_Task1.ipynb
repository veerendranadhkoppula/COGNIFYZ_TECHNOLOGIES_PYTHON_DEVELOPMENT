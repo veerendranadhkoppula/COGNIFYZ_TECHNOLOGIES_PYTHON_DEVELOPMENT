{
  "nbformat": 4,
  "nbformat_minor": 0,
  "metadata": {
    "colab": {
      "provenance": [],
      "authorship_tag": "ABX9TyNHVTjQpB+1tjxHgGc6ICMI",
      "include_colab_link": true
    },
    "kernelspec": {
      "name": "python3",
      "display_name": "Python 3"
    },
    "language_info": {
      "name": "python"
    }
  },
  "cells": [
    {
      "cell_type": "markdown",
      "metadata": {
        "id": "view-in-github",
        "colab_type": "text"
      },
      "source": [
        "<a href=\"https://colab.research.google.com/github/veerendranadhkoppula/COGNIFYZ_TECHNOLOGIES_PYTHON_DEVELOPMENT/blob/main/L2_Task1.ipynb\" target=\"_parent\"><img src=\"https://colab.research.google.com/assets/colab-badge.svg\" alt=\"Open In Colab\"/></a>"
      ]
    },
    {
      "cell_type": "markdown",
      "source": [
        "**L2_TASK-1 :-Guessing Game**"
      ],
      "metadata": {
        "id": "iHLw9uzWsDmm"
      }
    },
    {
      "cell_type": "markdown",
      "source": [
        "**Question**\n",
        "\n",
        "\n",
        "Write a Python program that generates a random number between 1 and 100. The user should then try to guess the number.The program should provide hints such as\"too high\" or \"too low\" until the correct number is guessed."
      ],
      "metadata": {
        "id": "h9Ws90qisbrl"
      }
    },
    {
      "cell_type": "markdown",
      "source": [
        "**Answer**"
      ],
      "metadata": {
        "id": "ebih5d6Zsha-"
      }
    },
    {
      "cell_type": "code",
      "source": [
        "import random"
      ],
      "metadata": {
        "id": "7kfHQ-19srDU"
      },
      "execution_count": 1,
      "outputs": []
    },
    {
      "cell_type": "code",
      "source": [
        "choice = random.randint(1, 100)\n",
        "count = 0\n",
        "\n",
        "while count < 10:\n",
        "\n",
        "    guess_no = int(input(\"Guess the No. :\"))\n",
        "\n",
        "    if guess_no == choice:\n",
        "        print(\"Hooray! Your Guess is Correct\")\n",
        "        break\n",
        "\n",
        "    elif guess_no < choice:\n",
        "        print(\"Too Low\")\n",
        "\n",
        "    else:\n",
        "        print(\"Too High\")\n",
        "\n",
        "    count += 1\n",
        "\n",
        "if count > 10:\n",
        "    print(f\"The no is{choice}\")\n",
        "    print(\"You can try again!\")"
      ],
      "metadata": {
        "id": "DMz8NefVuSJV"
      },
      "execution_count": null,
      "outputs": []
    }
  ]
}