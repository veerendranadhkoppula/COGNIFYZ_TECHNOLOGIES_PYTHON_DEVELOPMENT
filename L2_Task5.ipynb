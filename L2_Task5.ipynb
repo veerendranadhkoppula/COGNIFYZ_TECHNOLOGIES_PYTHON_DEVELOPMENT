{
  "nbformat": 4,
  "nbformat_minor": 0,
  "metadata": {
    "colab": {
      "provenance": [],
      "authorship_tag": "ABX9TyNdTxvG3xj6Bch1iohd2ao1",
      "include_colab_link": true
    },
    "kernelspec": {
      "name": "python3",
      "display_name": "Python 3"
    },
    "language_info": {
      "name": "python"
    }
  },
  "cells": [
    {
      "cell_type": "markdown",
      "metadata": {
        "id": "view-in-github",
        "colab_type": "text"
      },
      "source": [
        "<a href=\"https://colab.research.google.com/github/veerendranadhkoppula/COGNIFYZ_TECHNOLOGIES_PYTHON_DEVELOPMENT/blob/main/L2_Task5.ipynb\" target=\"_parent\"><img src=\"https://colab.research.google.com/assets/colab-badge.svg\" alt=\"Open In Colab\"/></a>"
      ]
    },
    {
      "cell_type": "markdown",
      "source": [
        "**L2 TASK-5:-File Manipulation**"
      ],
      "metadata": {
        "id": "daGvpVRDznlX"
      }
    },
    {
      "cell_type": "markdown",
      "source": [
        "**Question**\n",
        "\n",
        "Write a Python program that reads a text\n",
        "file and counts the occurrences of each\n",
        "word in the file. Display the results in\n",
        "alphabetical order along with their\n",
        "respective counts."
      ],
      "metadata": {
        "id": "8m9moVTrztHs"
      }
    },
    {
      "cell_type": "markdown",
      "source": [
        "**Answer**"
      ],
      "metadata": {
        "id": "_FS67g50zyUw"
      }
    },
    {
      "cell_type": "code",
      "source": [
        "def count_occ(text):\n",
        "    count = dict()\n",
        "\n",
        "    for line in text:\n",
        "        line = line.strip()\n",
        "        line = line.lower()\n",
        "        words = line.split(\" \")\n",
        "\n",
        "        for word in words:\n",
        "            if word in count:\n",
        "                count[word] = count[word] + 1\n",
        "            else:\n",
        "                count[word] = 1\n",
        "\n",
        "    for key in list(count.keys()):\n",
        "        print(key, \":\", count[key])"
      ],
      "metadata": {
        "id": "itgxcwxvz0kE"
      },
      "execution_count": 1,
      "outputs": []
    },
    {
      "cell_type": "code",
      "source": [
        "with open (\"L2_Task5.txt\", \"r\") as file:\n",
        "    count_occ(file)"
      ],
      "metadata": {
        "id": "tIBUolKX0oCc"
      },
      "execution_count": null,
      "outputs": []
    }
  ]
}