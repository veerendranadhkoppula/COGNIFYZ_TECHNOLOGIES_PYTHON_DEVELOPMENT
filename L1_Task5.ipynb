{
  "nbformat": 4,
  "nbformat_minor": 0,
  "metadata": {
    "colab": {
      "provenance": [],
      "authorship_tag": "ABX9TyOB3tixRYtB/TJPWGMM3bZM",
      "include_colab_link": true
    },
    "kernelspec": {
      "name": "python3",
      "display_name": "Python 3"
    },
    "language_info": {
      "name": "python"
    }
  },
  "cells": [
    {
      "cell_type": "markdown",
      "metadata": {
        "id": "view-in-github",
        "colab_type": "text"
      },
      "source": [
        "<a href=\"https://colab.research.google.com/github/veerendranadhkoppula/COGNIFYZ_TECHNOLOGIES_PYTHON_DEVELOPMENT/blob/main/L1_Task5.ipynb\" target=\"_parent\"><img src=\"https://colab.research.google.com/assets/colab-badge.svg\" alt=\"Open In Colab\"/></a>"
      ]
    },
    {
      "cell_type": "markdown",
      "source": [
        "**TASK-5: Palindrome Checker**"
      ],
      "metadata": {
        "id": "LD1_4WAlCFEv"
      }
    },
    {
      "cell_type": "markdown",
      "source": [
        "**Question**\n",
        "\n",
        "Write a Python function that checks whethera given string is a palindrome. A palindromeis a word, phrase, or sequence that reads thesame backward as forward (e.g., \"madam\" or\"racecar\").\n",
        "Cognifyz\n",
        "Where Data Meets Intelligence\n",
        "Level 1\n",
        "Task 5"
      ],
      "metadata": {
        "id": "9uZOKl85CVD-"
      }
    },
    {
      "cell_type": "markdown",
      "source": [
        "**Answer**"
      ],
      "metadata": {
        "id": "34Nt-0TvCamX"
      }
    },
    {
      "cell_type": "code",
      "source": [
        "def palindrome_checker(str):\n",
        "    if str == str[::-1]:\n",
        "        return (f\"String '{str}' is a Palindrome\")\n",
        "    else:\n",
        "        return (f\"String '{str}' is not Palindrome\")"
      ],
      "metadata": {
        "id": "bOy4cCKJCckS"
      },
      "execution_count": 1,
      "outputs": []
    },
    {
      "cell_type": "code",
      "source": [
        "str1 = \"madam\"\n",
        "str2= \"racecar\"\n",
        "print(palindrome_checker(str1))\n",
        "print(palindrome_checker(str2))\n"
      ],
      "metadata": {
        "colab": {
          "base_uri": "https://localhost:8080/"
        },
        "id": "8BawbKz8Ci-l",
        "outputId": "c9e72736-34b9-47c4-a84e-df77fba2e67f"
      },
      "execution_count": 2,
      "outputs": [
        {
          "output_type": "stream",
          "name": "stdout",
          "text": [
            "String 'madam' is a Palindrome\n",
            "String 'racecar' is a Palindrome\n"
          ]
        }
      ]
    },
    {
      "cell_type": "code",
      "source": [
        "str = input(\"Enter a String to check for Palindrome :\")\n",
        "print(palindrome_checker(str))"
      ],
      "metadata": {
        "colab": {
          "base_uri": "https://localhost:8080/"
        },
        "id": "es5qcsYSCnuN",
        "outputId": "ce558880-1234-41c9-c640-3741592450f1"
      },
      "execution_count": 4,
      "outputs": [
        {
          "output_type": "stream",
          "name": "stdout",
          "text": [
            "Enter a String to check for Palindrome :madam\n",
            "String 'madam' is a Palindrome\n"
          ]
        }
      ]
    }
  ]
}