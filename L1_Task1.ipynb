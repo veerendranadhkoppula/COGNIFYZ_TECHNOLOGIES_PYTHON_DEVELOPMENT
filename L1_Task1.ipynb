{
  "nbformat": 4,
  "nbformat_minor": 0,
  "metadata": {
    "colab": {
      "provenance": [],
      "authorship_tag": "ABX9TyMCvyHP+Mcrt99RMO7nKfB4",
      "include_colab_link": true
    },
    "kernelspec": {
      "name": "python3",
      "display_name": "Python 3"
    },
    "language_info": {
      "name": "python"
    }
  },
  "cells": [
    {
      "cell_type": "markdown",
      "metadata": {
        "id": "view-in-github",
        "colab_type": "text"
      },
      "source": [
        "<a href=\"https://colab.research.google.com/github/veerendranadhkoppula/COGNIFYZ_TECHNOLOGIES_PYTHON_DEVELOPMENT/blob/main/L1_Task1.ipynb\" target=\"_parent\"><img src=\"https://colab.research.google.com/assets/colab-badge.svg\" alt=\"Open In Colab\"/></a>"
      ]
    },
    {
      "cell_type": "markdown",
      "source": [
        "**TASK-1 : String** **Reversal**"
      ],
      "metadata": {
        "id": "PBqLuEwd0xq4"
      }
    },
    {
      "cell_type": "markdown",
      "source": [
        "**Question**\n",
        "\n",
        "Create a Python function that takes a string as input and returns the reverse of the string. For example, if the input is \"hello\", the function should return \"olleh\"."
      ],
      "metadata": {
        "id": "-cQRh6aG1cmS"
      }
    },
    {
      "cell_type": "markdown",
      "source": [
        "**Answer**"
      ],
      "metadata": {
        "id": "8bLJkdu62LEV"
      }
    },
    {
      "cell_type": "code",
      "source": [
        "# String Reversal\n",
        "str=input(\"Enter the String you want to Reverse :\")\n",
        "rev_str=str[::-1]\n",
        "print(f\"Reverse of String is :'{rev_str}'\")\n"
      ],
      "metadata": {
        "colab": {
          "base_uri": "https://localhost:8080/"
        },
        "id": "htDDqxMQ2QfZ",
        "outputId": "41430c94-a3c3-4a8f-920d-fdb68ba08634"
      },
      "execution_count": 2,
      "outputs": [
        {
          "output_type": "stream",
          "name": "stdout",
          "text": [
            "Enter the String you want to Reverse :hello\n",
            "Reverse of String is :'olleh'\n"
          ]
        }
      ]
    }
  ]
}